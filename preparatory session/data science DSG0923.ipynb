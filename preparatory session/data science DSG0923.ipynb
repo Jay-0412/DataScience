{
 "cells": [
  {
   "cell_type": "code",
   "execution_count": 4,
   "id": "282facb1",
   "metadata": {},
   "outputs": [
    {
     "name": "stdout",
     "output_type": "stream",
     "text": [
      "Jay Jethwa\n"
     ]
    }
   ],
   "source": [
    "print(\"Jay Jethwa\")"
   ]
  },
  {
   "cell_type": "markdown",
   "id": "d4d6ebcc",
   "metadata": {},
   "source": [
    "Hello jay how you doing ???"
   ]
  },
  {
   "cell_type": "code",
   "execution_count": 2,
   "id": "02ba5001",
   "metadata": {},
   "outputs": [
    {
     "name": "stdout",
     "output_type": "stream",
     "text": [
      "Hello Data Science\n"
     ]
    }
   ],
   "source": [
    "print (\"Hello Data Science\")\n"
   ]
  }
 ],
 "metadata": {
  "kernelspec": {
   "display_name": "Python 3 (ipykernel)",
   "language": "python",
   "name": "python3"
  },
  "language_info": {
   "codemirror_mode": {
    "name": "ipython",
    "version": 3
   },
   "file_extension": ".py",
   "mimetype": "text/x-python",
   "name": "python",
   "nbconvert_exporter": "python",
   "pygments_lexer": "ipython3",
   "version": "3.11.4"
  }
 },
 "nbformat": 4,
 "nbformat_minor": 5
}
